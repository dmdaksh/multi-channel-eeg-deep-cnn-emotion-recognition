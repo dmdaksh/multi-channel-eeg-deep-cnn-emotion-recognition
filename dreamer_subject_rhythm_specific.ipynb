{
  "nbformat": 4,
  "nbformat_minor": 0,
  "metadata": {
    "colab": {
      "name": "dreamer_subject_rhythm_specific.ipynb",
      "provenance": [],
      "authorship_tag": "ABX9TyMK81QkcXTcx3lBS1eGKJTg",
      "include_colab_link": true
    },
    "kernelspec": {
      "name": "python3",
      "display_name": "Python 3"
    }
  },
  "cells": [
    {
      "cell_type": "markdown",
      "metadata": {
        "id": "view-in-github",
        "colab_type": "text"
      },
      "source": [
        "<a href=\"https://colab.research.google.com/github/dmdaksh/multi-channel-eeg-deep-cnn-emotion-recognition/blob/main/dreamer_subject_rhythm_specific.ipynb\" target=\"_parent\"><img src=\"https://colab.research.google.com/assets/colab-badge.svg\" alt=\"Open In Colab\"/></a>"
      ]
    },
    {
      "cell_type": "code",
      "metadata": {
        "id": "mfGdKhlTY_xK"
      },
      "source": [
        ""
      ],
      "execution_count": null,
      "outputs": []
    }
  ]
}